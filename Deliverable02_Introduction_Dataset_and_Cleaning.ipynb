{
 "cells": [
  {
   "cell_type": "markdown",
   "id": "c90dce38",
   "metadata": {},
   "source": [
    "### Introduction"
   ]
  },
  {
   "cell_type": "markdown",
   "id": "4447aa2c",
   "metadata": {},
   "source": [
    "Fire department response times are a critical metric for the efficiency of emergency services, especially in large urban environments like New York City. The time it takes for fire departments to respond to an incident can significantly impact the severity of damage and the number of lives saved. Understanding the factors that influence these response times can help improve operational efficiency and allocate resources more effectively.\n",
    "\n",
    "This project leverages the Fire Incident Dispatch Data from NYC Open Data, which contains detailed information about over 11 million fire incidents in New York City. The data includes timestamps for when incidents are created and closed, the type of incidents, the resources assigned, and the response times of the fire department. By analyzing this dataset, we aim to predict whether a fire incident's response time is valid (i.e., within an acceptable time frame). This prediction will help inform decisions on resource allocation and response optimization, ultimately improving the fire department's efficiency.\n",
    "\n",
    "We will use machine learning classification techniques to predict whether the response time is valid, based on various features such as the location of the incident, the type of emergency, and the resources assigned. The dataset’s large size and variety of features make it a valuable resource for understanding patterns in response times across New York City."
   ]
  },
  {
   "cell_type": "markdown",
   "id": "aeb1e927",
   "metadata": {},
   "source": [
    "### Data Description"
   ]
  },
  {
   "cell_type": "markdown",
   "id": "93d7655b",
   "metadata": {},
   "source": [
    "The Fire Incident Dispatch Data from NYC Open Data tracks fire incidents across New York City, providing over 11.1 million rows of data across 29 columns. This dataset includes information about when and where an incident occurs, the type of emergency, and how long it took for the fire department to respond. For this analysis, we focused on the following relevant features, which directly affect the fire department's response time and the validity of that response.\n",
    "\n",
    "Relevant Features:\n",
    "\n",
    "1. INCIDENT_BOROUGH:\n",
    "\n",
    "    Description: Indicates the borough where the fire incident occurred (e.g., Manhattan, Brooklyn, Queens, Bronx, Staten Island).\n",
    "\n",
    "    Relevance: The borough where an incident takes place can significantly affect the response time, as factors such as traffic, proximity to fire stations, and the density of buildings influence how quickly emergency services can respond.\n",
    "\n",
    "    Cleaning: This column was retained after removing redundant columns like ALARM_BOX_BOROUGH, which contained the same information.\n",
    "\n",
    "2. CALL_TYPE:\n",
    "\n",
    "    Description: The type of emergency call (e.g., fire, medical emergency, medical first aid).\n",
    "\n",
    "    Relevance: The type of emergency determines the resources required and can influence how quickly those resources are dispatched. For example, medical emergencies may have a different urgency compared to fire-related incidents.\n",
    "\n",
    "    Cleaning: This categorical feature was retained to understand how different types of calls impact response times.\n",
    "\n",
    "3. RESPONSE_TIME:\n",
    "\n",
    "    Description: The time taken by the fire department to respond to the incident (in seconds).\n",
    "\n",
    "    Relevance: This is the target variable for our analysis. The goal is to predict whether this response time is valid (i.e., within the required time frame) based on the features in the dataset.\n",
    "\n",
    "    Cleaning: This numerical feature was retained for modeling purposes.\n",
    "\n",
    "4. VALID_INCIDENT_RSPNS_TIME_INDC:\n",
    "\n",
    "    Description: A binary feature indicating whether the incident's response time was valid (1 for valid, 0 for invalid).\n",
    "\n",
    "    Relevance: This is the target variable for our classification model. We aim to predict whether the response time meets the required standards for a valid response.\n",
    "\n",
    "    Cleaning: This feature was mapped from categorical ('Y', 'N') values to binary (1, 0) values for classification purposes.\n",
    "\n",
    "5. RESOURCE_ASSIGNMENT:\n",
    "\n",
    "    Description: Describes the number and type of resources assigned to the incident (e.g., engines, trucks, ambulances).\n",
    "\n",
    "    Relevance: The quantity and type of resources dispatched to an incident can directly affect the response time. More resources may lead to a faster and more efficient response.\n",
    "\n",
    "    Cleaning: These features were retained as numerical variables for modeling.\n",
    "\n",
    "Additional Features:\n",
    "\n",
    "6. ALARM_SOURCE_DESCRIPTION_TX:\n",
    "\n",
    "    Description: Indicates the source of the fire alarm (e.g., phone call, private fire alarm).\n",
    "\n",
    "    Relevance: The source of the alarm can influence how quickly the fire department is alerted and how rapidly they can respond. Some sources may provide more accurate or urgent information, leading to quicker responses.\n",
    "\n",
    "    Cleaning: This categorical feature was encoded numerically for use in machine learning models.\n",
    "\n",
    "7. INCIDENT_CLASSIFICATION_GROUP:\n",
    "\n",
    "    Description: Categorizes the type of incident (e.g., medical emergencies, non-medical emergencies, structural fires).\n",
    "\n",
    "    Relevance: Different types of incidents may require different types of responses. This feature helps to segment the data by incident type and understand how these types affect response times.\n",
    "\n",
    "    Cleaning: This feature was retained and encoded numerically for use in the classification model.\n",
    "\n",
    "8. ENGINES_ASSIGNED_QUANTITY:\n",
    "\n",
    "    Description: The number of fire engines assigned to the incident.\n",
    "\n",
    "    Relevance: The number of engines dispatched can significantly influence the time it takes for the fire department to respond, especially for larger fires or incidents requiring more equipment.\n",
    "\n",
    "    Cleaning: This numerical feature was retained for modeling.\n",
    "\n",
    "9. LADDERS_ASSIGNED_QUANTITY:\n",
    "\n",
    "    Description: The number of ladder trucks assigned to the incident.\n",
    "\n",
    "    Relevance: Ladder trucks are used for accessing high-rise buildings or performing rescues. Their assignment can influence the efficiency of the response and the speed at which operations are carried out.\n",
    "\n",
    "    Cleaning: This feature was retained as part of the resource assignment variables.\n",
    "\n",
    "10. OTHER_UNITS_ASSIGNED_QUANTITY:\n",
    "\n",
    "    Description: The number of other units (e.g., ambulances, rescue units) assigned to the incident.\n",
    "\n",
    "    Relevance: The number of additional units assigned to an incident could affect the speed of response, especially if the incident involves multiple types of emergencies or requires a large number of responders.\n",
    "\n",
    "    Cleaning: This feature was retained as part of the resource assignment data."
   ]
  },
  {
   "cell_type": "markdown",
   "id": "0ee0f034",
   "metadata": {},
   "source": [
    "### Data Cleaning"
   ]
  },
  {
   "cell_type": "markdown",
   "id": "31078d2a",
   "metadata": {},
   "source": [
    "The dataset required several cleaning steps to prepare it for analysis. These steps ensured that the dataset was relevant, complete, and ready for modeling.\n",
    "\n",
    "To start, we imported the dependencies that we would need and read the csv file into a dataframe."
   ]
  },
  {
   "cell_type": "code",
   "execution_count": 1,
   "id": "d5c55b17",
   "metadata": {},
   "outputs": [
    {
     "name": "stderr",
     "output_type": "stream",
     "text": [
      "C:\\Users\\Jason\\AppData\\Local\\Temp\\ipykernel_17508\\1139139912.py:4: DtypeWarning: Columns (0) have mixed types. Specify dtype option on import or set low_memory=False.\n",
      "  df = pd.read_csv(r\"C:\\Users\\Jason\\Downloads\\Fire_Incident_Dispatch_Data_20250408.csv\")\n"
     ]
    }
   ],
   "source": [
    "import pandas as pd\n",
    "import numpy as np\n",
    "from sklearn.model_selection import StratifiedKFold\n",
    "df = pd.read_csv(r\"C:\\Users\\Jason\\Downloads\\Fire_Incident_Dispatch_Data_20250408.csv\")\n",
    "total_rows = df.shape[0]"
   ]
  },
  {
   "cell_type": "markdown",
   "id": "f64a914e",
   "metadata": {},
   "source": [
    "1. Dropping Columns:\n",
    "\n",
    "    Irrelevant Columns:\n",
    "\n",
    "    Columns like ZIPCODE, POLICEPRECINCT, CITYCOUNCILDISTRICT, and others were removed because they did not contribute meaningful information to the prediction of response time validity.\n",
    "\n",
    "\n",
    "    DateTime Columns: \n",
    "\n",
    "    Columns with datetime values, such as FIRST_ASSIGNMENT_DATETIME and FIRST_ACTIVATION_DATETIME, were dropped because they were not useful for predicting response time validity. The only column kept was INCIDENT_DATETIME, as this will be converted to a categorical variable later and used as a feature\n",
    "    \n",
    "\n",
    "    Time Columns:\n",
    "\n",
    "    Columns that were representitive of the time it took to fire department to accomplish something, were dropped. This is because their correlation was too high and they were too strong of a predictor of whether or not the response time was valid"
   ]
  },
  {
   "cell_type": "code",
   "execution_count": 2,
   "id": "22984eb7",
   "metadata": {},
   "outputs": [],
   "source": [
    "# Dropping unnecessary columns that contained no useful information\n",
    "df.drop(columns=['STARFIRE_INCIDENT_ID', 'ZIPCODE', 'POLICEPRECINCT', 'CITYCOUNCILDISTRICT', 'COMMUNITYDISTRICT', 'COMMUNITYSCHOOLDISTRICT', 'CONGRESSIONALDISTRICT', 'ALARM_BOX_NUMBER', 'ALARM_BOX_LOCATION', 'INCIDENT_CLASSIFICATION', 'ALARM_LEVEL_INDEX_DESCRIPTION', 'HIGHEST_ALARM_LEVEL', 'VALID_DISPATCH_RSPNS_TIME_INDC'], inplace=True)\n",
    "#Dropping most columns with DateTime data types, the other one will be converted to a categorical variable later\n",
    "df.drop(columns=['FIRST_ASSIGNMENT_DATETIME', 'FIRST_ACTIVATION_DATETIME', 'FIRST_ON_SCENE_DATETIME', 'INCIDENT_CLOSE_DATETIME'], inplace=True)\n",
    "# Dropping the column for INCIDENT_TRAVEL_TIME adnd INCIDENT_RESPONSE_SECONDS_QY, as they are mostly out of our control and will have too great of an impact on the model\n",
    "df.drop(columns=['INCIDENT_TRAVEL_TM_SECONDS_QY', 'INCIDENT_RESPONSE_SECONDS_QY', 'DISPATCH_RESPONSE_SECONDS_QY'], inplace=True)"
   ]
  },
  {
   "cell_type": "markdown",
   "id": "e783b7b5",
   "metadata": {},
   "source": [
    "2. Handling Missing Data:\n",
    "\n",
    "    Rows with missing values (about 4% of the dataset) were dropped to maintain data integrity, as this small amount of missing data would not significantly affect the analysis."
   ]
  },
  {
   "cell_type": "code",
   "execution_count": 3,
   "id": "e4f6c90a",
   "metadata": {},
   "outputs": [
    {
     "name": "stdout",
     "output_type": "stream",
     "text": [
      "ALARM_BOX_BOROUGH                   2\n",
      "ENGINES_ASSIGNED_QUANTITY        1584\n",
      "LADDERS_ASSIGNED_QUANTITY        1584\n",
      "OTHER_UNITS_ASSIGNED_QUANTITY    1584\n",
      "dtype: int64\n",
      "Percentage of remaining rows: 99.98%\n"
     ]
    }
   ],
   "source": [
    "missing_counts = df.isnull().sum()\n",
    "missing_counts = missing_counts[missing_counts > 0]\n",
    "print(missing_counts)\n",
    "# We can see that the rows with missing values only account for around 4% of the total rows, so we can drop them without losing too much data.\n",
    "df.dropna(inplace=True)\n",
    "print(f\"Percentage of remaining rows: {df.shape[0] / total_rows * 100:.2f}%\")"
   ]
  },
  {
   "cell_type": "markdown",
   "id": "512a396e",
   "metadata": {},
   "source": [
    "3. Mapping Categorical Variables:\n",
    "\n",
    "    The VALID_INCIDENT_RSPNS_TIME_INDC column, which indicates whether the response time was valid, was mapped from categorical values ('Y', 'N') to binary (1, 0) for classification modeling."
   ]
  },
  {
   "cell_type": "code",
   "execution_count": 4,
   "id": "3fcf5102",
   "metadata": {},
   "outputs": [],
   "source": [
    "# Remapping the values in VALID_INCIDENT_RSPNS_TIME_INDC\n",
    "df['VALID_INCIDENT_RSPNS_TIME_INDC'] = df['VALID_INCIDENT_RSPNS_TIME_INDC'].map({'Y': 1, 'N': 0})"
   ]
  },
  {
   "cell_type": "markdown",
   "id": "7bfb3b92",
   "metadata": {},
   "source": [
    "4. Combining Redundant Columns:\n",
    "\n",
    "    The ALARM_BOX_BOROUGH and INCIDENT_BOROUGH columns were found to be identical, so ALARM_BOX_BOROUGH was removed to avoid redundancy."
   ]
  },
  {
   "cell_type": "code",
   "execution_count": 5,
   "id": "963537bf",
   "metadata": {},
   "outputs": [
    {
     "name": "stdout",
     "output_type": "stream",
     "text": [
      "True    10273506\n",
      "Name: count, dtype: int64\n"
     ]
    }
   ],
   "source": [
    "# Checking to see if the ALARM_BOX_BOROUGH and INCIDENT_BOROUGH columns are equal enough to be used as a single column, they are comepletley equal, so they will be combined\n",
    "print((df['ALARM_BOX_BOROUGH'] == df['INCIDENT_BOROUGH']).value_counts())\n",
    "df.drop(columns=['ALARM_BOX_BOROUGH'], inplace=True)"
   ]
  },
  {
   "cell_type": "markdown",
   "id": "7bf91ab7",
   "metadata": {},
   "source": [
    "5. Converting the INCIDENT_DATETIME column to a categorical variable\n",
    "\n",
    "    To get a better understanding of how the time of the incident impacts the validity of the response time, the INCIDENT_DATETIME column was converted into a categorical variable reresentitive of which 4-hour period of time it fall within. This was done by first extracting the hour from the datetime data and finding the value counts for this data. The counts of each hour value was used to find the optimal grouping, where each hour within each group had counts most similar to the other hours in its group\n"
   ]
  },
  {
   "cell_type": "code",
   "execution_count": 6,
   "id": "7693b2b8",
   "metadata": {},
   "outputs": [
    {
     "name": "stdout",
     "output_type": "stream",
     "text": [
      "Best grouping: [[2, 3, 4, 5], [6, 7, 8, 9], [10, 11, 12, 13], [14, 15, 16, 17], [18, 19, 20, 21], [22, 23, 0, 1]] with Std Dev: 503556.97\n"
     ]
    }
   ],
   "source": [
    "# Convert string to datetime\n",
    "df['INCIDENT_DATETIME'] = pd.to_datetime(df['INCIDENT_DATETIME'], format=\"%m/%d/%Y %I:%M:%S %p\")\n",
    "\n",
    "# Extract hour in 24-hour format\n",
    "df['INCIDENT_HOUR'] = df['INCIDENT_DATETIME'].dt.hour\n",
    "df.drop(columns=['INCIDENT_DATETIME'], inplace=True)\n",
    "\n",
    "# Function to convert 24-hour format to AM/PM format for labels\n",
    "def hour_to_ampm(h):\n",
    "    suffix = \"AM\" if h < 12 or h == 24 else \"PM\"\n",
    "    hour12 = h % 12\n",
    "    if hour12 == 0:\n",
    "        hour12 = 12\n",
    "    return f\"{hour12} {suffix}\"\n",
    "\n",
    "def assign_optimal_hour_groups(df, hour_col='INCIDENT_HOUR', group_col='HOUR GROUP'):\n",
    "\n",
    "    # Function to create the hour groupings that will be checked\n",
    "    def get_hour_groups(start):\n",
    "        hours = [(start + i) % 24 for i in range(24)]\n",
    "        return [hours[i:i+4] for i in range(0, 24, 4)]\n",
    "\n",
    "    # Precompute value counts of each hour\n",
    "    hour_counts = df[hour_col].value_counts().reindex(range(24), fill_value=0)\n",
    "\n",
    "    best_std = np.inf\n",
    "    best_groups = None\n",
    "\n",
    "    # Checking all possible hour groupings to find the one with the lowest standard deviation\n",
    "    for start in range(24):\n",
    "        groups = get_hour_groups(start)\n",
    "        group_totals = [hour_counts[group].sum() for group in groups]\n",
    "        std = np.std(group_totals, ddof=0)\n",
    "        if std < best_std:\n",
    "            best_std = std\n",
    "            best_groups = groups\n",
    "\n",
    "    # Create mapping from hour to group index + label\n",
    "    hour_to_group = {}\n",
    "    hour_to_label = {}\n",
    "\n",
    "    # Creating and assigning the labels for each group\n",
    "    for i, group in enumerate(best_groups):\n",
    "        for hour in group:\n",
    "            hour_to_group[hour] = i\n",
    "            start_hour = group[0]\n",
    "            end_hour = group[-1]\n",
    "            label = f\"{hour_to_ampm(start_hour)} - {hour_to_ampm((end_hour + 1) % 24)}\"\n",
    "            hour_to_label[hour] = label\n",
    "\n",
    "    df[group_col] = df[hour_col].map(hour_to_group)\n",
    "    df[f\"{group_col} LABEL\"] = df[hour_col].map(hour_to_label)\n",
    "\n",
    "    print(f\"Best grouping: {best_groups} with Std Dev: {best_std:.2f}\")\n",
    "\n",
    "    return df, best_groups\n",
    "\n",
    "df, best_groups = assign_optimal_hour_groups(df)"
   ]
  },
  {
   "cell_type": "markdown",
   "id": "b55b43ca",
   "metadata": {},
   "source": [
    "7. Target Encoding for Categorical Variables:\n",
    "\n",
    "    For categorical features INCIDENT_BOROUGH, ALARM_SOURCE_DESCRIPTION_TX, INCIDENT_CLASSIFICATION_GROUP, and HOUR GROUP LABEL target encoding was applied to convert them into numerical formats suitable for modeling. All of the counts for the values in these columns are over 5000, any values found with a count of less than 5000 (Only found in ALARM_SOURCE_DESCRIPTION_TX) were dropped as they made up an insignifigant amount of the dataset, and would not terget encoded as accurately. K-fold cross validation was used in this function to prevent overfitting. All of the strings in these columns were also converted to lower case, to combine certain instances values with different cases, such as the instances of \"Phone\" and \"PHONE\" in the Alarm Source column."
   ]
  },
  {
   "cell_type": "code",
   "execution_count": 7,
   "id": "0806ee14",
   "metadata": {},
   "outputs": [],
   "source": [
    "# Target Encoding for Categorical Variables using Stratified K-Folds\n",
    "\n",
    "def target_encode(df, col, target='VALID_INCIDENT_RSPNS_TIME_INDC', n_splits=10, alpha=10):\n",
    "\n",
    "    df = df.copy()\n",
    "    skf = StratifiedKFold(n_splits=n_splits, shuffle=True, random_state=42)\n",
    "    encoded = pd.Series(index=df.index, dtype=float)\n",
    "    \n",
    "    global_mean = df[target].mean()\n",
    "\n",
    "    for train_idx, val_idx in skf.split(df, df[target]):\n",
    "        train, val = df.iloc[train_idx], df.iloc[val_idx]\n",
    "\n",
    "        # Compute smoothed means\n",
    "        category_stats = train.groupby(col)[target].agg(['mean', 'count'])\n",
    "        smooth = (category_stats['count'] * category_stats['mean'] + alpha * global_mean) / (category_stats['count'] + alpha)\n",
    "\n",
    "        # Map to validation fold\n",
    "        encoded.iloc[val_idx] = val[col].map(smooth).fillna(global_mean)\n",
    "\n",
    "    return encoded\n",
    "\n",
    "# Converting all strings to the same case\n",
    "df['INCIDENT_BOROUGH'] = df['INCIDENT_BOROUGH'].str.lower()\n",
    "df['ALARM_SOURCE_DESCRIPTION_TX'] = df['ALARM_SOURCE_DESCRIPTION_TX'].str.lower()\n",
    "df['INCIDENT_CLASSIFICATION_GROUP'] = df['INCIDENT_CLASSIFICATION_GROUP'].str.lower()\n",
    "# Target Encoding for categorical variables\n",
    "df['Borough num'] = target_encode(df, 'INCIDENT_BOROUGH')\n",
    "df['Alarm Source num'] = target_encode(df, 'ALARM_SOURCE_DESCRIPTION_TX')\n",
    "df['Incident Classification num'] = target_encode(df, 'INCIDENT_CLASSIFICATION_GROUP')\n",
    "df['Time num'] = target_encode(df, 'HOUR GROUP LABEL')"
   ]
  },
  {
   "cell_type": "markdown",
   "id": "83271530",
   "metadata": {},
   "source": [
    "8. Renaming and reordering Columns:\n",
    "\n",
    "    To make the columns more readable and easier to work with, we renamed the columns with more intuitive names and reordered them."
   ]
  },
  {
   "cell_type": "code",
   "execution_count": 8,
   "id": "93bb0802",
   "metadata": {},
   "outputs": [],
   "source": [
    "# Renaming columns to make them easier to read and work with\n",
    "df.rename(columns={'INCIDENT_BOROUGH': 'Borough', 'ALARM_SOURCE_DESCRIPTION_TX': 'Alarm Source', 'INCIDENT_CLASSIFICATION_GROUP': 'Incident Classification', 'VALID_INCIDENT_RSPNS_TIME_INDC': 'Valid Response Time', 'ENGINES_ASSIGNED_QUANTITY': 'Engines Assigned', 'LADDERS_ASSIGNED_QUANTITY': 'Ladders Assigned', 'OTHER_UNITS_ASSIGNED_QUANTITY': 'Other Units Assigned', 'HOUR GROUP LABEL' : 'Time'}, inplace=True)\n",
    "order = ['Borough', 'Borough num', 'Time', 'Time num',  'Alarm Source', 'Alarm Source num', 'Incident Classification', 'Incident Classification num', 'Engines Assigned', 'Ladders Assigned', 'Other Units Assigned', 'Valid Response Time']\n",
    "df = df[order]"
   ]
  },
  {
   "cell_type": "markdown",
   "id": "bf03ffd5",
   "metadata": {},
   "source": [
    "After completing the data cleaning steps, the dataset was reduced to 7 relevant features, all of which contribute to predicting the validity of fire department response times. The dataset is now prepared for Exploratory Data Analysis (EDA) and model development."
   ]
  },
  {
   "cell_type": "code",
   "execution_count": 9,
   "id": "09788e13",
   "metadata": {},
   "outputs": [
    {
     "data": {
      "text/html": [
       "<div>\n",
       "<style scoped>\n",
       "    .dataframe tbody tr th:only-of-type {\n",
       "        vertical-align: middle;\n",
       "    }\n",
       "\n",
       "    .dataframe tbody tr th {\n",
       "        vertical-align: top;\n",
       "    }\n",
       "\n",
       "    .dataframe thead th {\n",
       "        text-align: right;\n",
       "    }\n",
       "</style>\n",
       "<table border=\"1\" class=\"dataframe\">\n",
       "  <thead>\n",
       "    <tr style=\"text-align: right;\">\n",
       "      <th></th>\n",
       "      <th>Borough</th>\n",
       "      <th>Borough num</th>\n",
       "      <th>Time</th>\n",
       "      <th>Time num</th>\n",
       "      <th>Alarm Source</th>\n",
       "      <th>Alarm Source num</th>\n",
       "      <th>Incident Classification</th>\n",
       "      <th>Incident Classification num</th>\n",
       "      <th>Engines Assigned</th>\n",
       "      <th>Ladders Assigned</th>\n",
       "      <th>Other Units Assigned</th>\n",
       "      <th>Valid Response Time</th>\n",
       "    </tr>\n",
       "  </thead>\n",
       "  <tbody>\n",
       "    <tr>\n",
       "      <th>0</th>\n",
       "      <td>richmond / staten island</td>\n",
       "      <td>0.840865</td>\n",
       "      <td>10 PM - 2 AM</td>\n",
       "      <td>0.806870</td>\n",
       "      <td>phone</td>\n",
       "      <td>0.950974</td>\n",
       "      <td>nonmedical emergencies</td>\n",
       "      <td>0.946426</td>\n",
       "      <td>1.0</td>\n",
       "      <td>1.0</td>\n",
       "      <td>0.0</td>\n",
       "      <td>1</td>\n",
       "    </tr>\n",
       "    <tr>\n",
       "      <th>1</th>\n",
       "      <td>bronx</td>\n",
       "      <td>0.791765</td>\n",
       "      <td>10 PM - 2 AM</td>\n",
       "      <td>0.806925</td>\n",
       "      <td>pd link/medical</td>\n",
       "      <td>0.687134</td>\n",
       "      <td>medical mfas</td>\n",
       "      <td>0.872033</td>\n",
       "      <td>1.0</td>\n",
       "      <td>0.0</td>\n",
       "      <td>0.0</td>\n",
       "      <td>1</td>\n",
       "    </tr>\n",
       "    <tr>\n",
       "      <th>2</th>\n",
       "      <td>brooklyn</td>\n",
       "      <td>0.831397</td>\n",
       "      <td>10 PM - 2 AM</td>\n",
       "      <td>0.806751</td>\n",
       "      <td>pd link/medical</td>\n",
       "      <td>0.686877</td>\n",
       "      <td>medical emergencies</td>\n",
       "      <td>0.640480</td>\n",
       "      <td>1.0</td>\n",
       "      <td>0.0</td>\n",
       "      <td>0.0</td>\n",
       "      <td>1</td>\n",
       "    </tr>\n",
       "    <tr>\n",
       "      <th>3</th>\n",
       "      <td>queens</td>\n",
       "      <td>0.819330</td>\n",
       "      <td>10 PM - 2 AM</td>\n",
       "      <td>0.806698</td>\n",
       "      <td>phone</td>\n",
       "      <td>0.950935</td>\n",
       "      <td>nonmedical mfas</td>\n",
       "      <td>0.948309</td>\n",
       "      <td>3.0</td>\n",
       "      <td>2.0</td>\n",
       "      <td>1.0</td>\n",
       "      <td>1</td>\n",
       "    </tr>\n",
       "    <tr>\n",
       "      <th>4</th>\n",
       "      <td>queens</td>\n",
       "      <td>0.819449</td>\n",
       "      <td>10 PM - 2 AM</td>\n",
       "      <td>0.806870</td>\n",
       "      <td>private fire alarm</td>\n",
       "      <td>0.985767</td>\n",
       "      <td>nonmedical emergencies</td>\n",
       "      <td>0.946426</td>\n",
       "      <td>1.0</td>\n",
       "      <td>1.0</td>\n",
       "      <td>1.0</td>\n",
       "      <td>1</td>\n",
       "    </tr>\n",
       "  </tbody>\n",
       "</table>\n",
       "</div>"
      ],
      "text/plain": [
       "                    Borough  Borough num          Time  Time num  \\\n",
       "0  richmond / staten island     0.840865  10 PM - 2 AM  0.806870   \n",
       "1                     bronx     0.791765  10 PM - 2 AM  0.806925   \n",
       "2                  brooklyn     0.831397  10 PM - 2 AM  0.806751   \n",
       "3                    queens     0.819330  10 PM - 2 AM  0.806698   \n",
       "4                    queens     0.819449  10 PM - 2 AM  0.806870   \n",
       "\n",
       "         Alarm Source  Alarm Source num Incident Classification  \\\n",
       "0               phone          0.950974  nonmedical emergencies   \n",
       "1     pd link/medical          0.687134            medical mfas   \n",
       "2     pd link/medical          0.686877     medical emergencies   \n",
       "3               phone          0.950935         nonmedical mfas   \n",
       "4  private fire alarm          0.985767  nonmedical emergencies   \n",
       "\n",
       "   Incident Classification num  Engines Assigned  Ladders Assigned  \\\n",
       "0                     0.946426               1.0               1.0   \n",
       "1                     0.872033               1.0               0.0   \n",
       "2                     0.640480               1.0               0.0   \n",
       "3                     0.948309               3.0               2.0   \n",
       "4                     0.946426               1.0               1.0   \n",
       "\n",
       "   Other Units Assigned  Valid Response Time  \n",
       "0                   0.0                    1  \n",
       "1                   0.0                    1  \n",
       "2                   0.0                    1  \n",
       "3                   1.0                    1  \n",
       "4                   1.0                    1  "
      ]
     },
     "execution_count": 9,
     "metadata": {},
     "output_type": "execute_result"
    }
   ],
   "source": [
    "df.head()"
   ]
  },
  {
   "cell_type": "markdown",
   "id": "0a554bc4",
   "metadata": {},
   "source": [
    "### Exploratory Data Analysis"
   ]
  },
  {
   "cell_type": "markdown",
   "id": "1364861d",
   "metadata": {},
   "source": [
    "To start, we imported the necessary dependencies to create the classification models and the tools to analyze and visualize those models"
   ]
  },
  {
   "cell_type": "code",
   "execution_count": 20,
   "id": "5aa5d7c5",
   "metadata": {},
   "outputs": [],
   "source": [
    "from sklearn.tree import DecisionTreeClassifier\n",
    "from sklearn.ensemble import RandomForestClassifier, GradientBoostingClassifier, AdaBoostClassifier\n",
    "import matplotlib.pyplot as plt\n",
    "from sklearn.model_selection import train_test_split\n",
    "from sklearn.preprocessing import StandardScaler\n",
    "from sklearn.metrics import accuracy_score, precision_score, recall_score, f1_score\n",
    "from sklearn import tree\n",
    "import matplotlib.pyplot as plt\n",
    "import seaborn as sns"
   ]
  },
  {
   "cell_type": "markdown",
   "id": "f4c565db",
   "metadata": {},
   "source": [
    "We then split our data into training and testing data to be able to create our classification models"
   ]
  },
  {
   "cell_type": "code",
   "execution_count": 14,
   "id": "b4e6ab7a",
   "metadata": {},
   "outputs": [],
   "source": [
    "X = df.drop(columns=['Valid Response Time', 'Borough', 'Time', 'Alarm Source', 'Incident Classification'])\n",
    "y = df['Valid Response Time']\n",
    "\n",
    "X_train, X_test, y_train, y_test = train_test_split(X, y, test_size=0.2, random_state=42)"
   ]
  },
  {
   "cell_type": "markdown",
   "id": "05dd93c2",
   "metadata": {},
   "source": [
    "We then created all 4 our of classification models. We recorded the accuracy of all of these models to ensure that all of the models would be accurate enough to justify using the feature importance from the models"
   ]
  },
  {
   "cell_type": "code",
   "execution_count": 15,
   "id": "1e58aff7",
   "metadata": {},
   "outputs": [],
   "source": [
    "# Decision Tree Classifier\n",
    "dt = DecisionTreeClassifier(random_state=42)\n",
    "dt.fit(X_train, y_train)\n",
    "y_pred = dt.predict(X_test)\n",
    "accuracy_dt = accuracy_score(y_test, y_pred)\n",
    "precision_dt = precision_score(y_test, y_pred, average='binary')\n",
    "recall_dt = recall_score(y_test, y_pred, average='binary')\n",
    "f1_dt = f1_score(y_test, y_pred, average='binary')\n",
    "\n",
    "# Random Forest Classifier\n",
    "rf = RandomForestClassifier(random_state=42)\n",
    "rf.fit(X_train, y_train)\n",
    "y_pred = rf.predict(X_test)\n",
    "accuracy_rf = accuracy_score(y_test, y_pred)\n",
    "precision_rf = precision_score(y_test, y_pred, average='binary')\n",
    "recall_rf = recall_score(y_test, y_pred, average='binary')\n",
    "f1_rf = f1_score(y_test, y_pred, average='binary')\n",
    "\n",
    "# Gradient Boosting Classifier\n",
    "gb = GradientBoostingClassifier(n_estimators=10, learning_rate= 0.05, random_state=42, max_features=6)\n",
    "gb.fit(X_train, y_train)\n",
    "y_pred = gb.predict(X_test)\n",
    "accuracy_gb = accuracy_score(y_test, y_pred)\n",
    "precision_gb = precision_score(y_test, y_pred, average='binary')\n",
    "recall_gb = recall_score(y_test, y_pred, average='binary')\n",
    "f1_gb = f1_score(y_test, y_pred, average='binary')\n",
    "\n",
    "# Ada Boost Classifier\n",
    "ab = AdaBoostClassifier(n_estimators=10, random_state=42)\n",
    "ab.fit(X_train, y_train)\n",
    "y_pred = ab.predict(X_test)\n",
    "accuracy_ab = accuracy_score(y_test, y_pred)\n",
    "precision_ab = precision_score(y_test, y_pred, average='binary')\n",
    "recall_ab = recall_score(y_test, y_pred, average='binary')\n",
    "f1_ab = f1_score(y_test, y_pred, average='binary')"
   ]
  },
  {
   "cell_type": "markdown",
   "id": "cf97c983",
   "metadata": {},
   "source": [
    "After creating all of the models, we then looked at all of the performance metrics of each model. We can see that the performance metrics for all of the models are very similar. This allows us to take the feature importance of all of the models into account."
   ]
  },
  {
   "cell_type": "code",
   "execution_count": 16,
   "id": "7ab5c11c",
   "metadata": {},
   "outputs": [
    {
     "data": {
      "text/html": [
       "<div>\n",
       "<style scoped>\n",
       "    .dataframe tbody tr th:only-of-type {\n",
       "        vertical-align: middle;\n",
       "    }\n",
       "\n",
       "    .dataframe tbody tr th {\n",
       "        vertical-align: top;\n",
       "    }\n",
       "\n",
       "    .dataframe thead th {\n",
       "        text-align: right;\n",
       "    }\n",
       "</style>\n",
       "<table border=\"1\" class=\"dataframe\">\n",
       "  <thead>\n",
       "    <tr style=\"text-align: right;\">\n",
       "      <th></th>\n",
       "      <th>Model</th>\n",
       "      <th>Accuracy</th>\n",
       "      <th>Precision</th>\n",
       "      <th>Recall</th>\n",
       "      <th>F1 Score</th>\n",
       "    </tr>\n",
       "  </thead>\n",
       "  <tbody>\n",
       "    <tr>\n",
       "      <th>0</th>\n",
       "      <td>Decision Tree</td>\n",
       "      <td>0.815430</td>\n",
       "      <td>0.827666</td>\n",
       "      <td>0.973179</td>\n",
       "      <td>0.894544</td>\n",
       "    </tr>\n",
       "    <tr>\n",
       "      <th>1</th>\n",
       "      <td>Random Forest</td>\n",
       "      <td>0.816580</td>\n",
       "      <td>0.827671</td>\n",
       "      <td>0.974976</td>\n",
       "      <td>0.895305</td>\n",
       "    </tr>\n",
       "    <tr>\n",
       "      <th>2</th>\n",
       "      <td>Gradient Boosting</td>\n",
       "      <td>0.804392</td>\n",
       "      <td>0.804392</td>\n",
       "      <td>1.000000</td>\n",
       "      <td>0.891593</td>\n",
       "    </tr>\n",
       "    <tr>\n",
       "      <th>3</th>\n",
       "      <td>Ada Boost</td>\n",
       "      <td>0.812282</td>\n",
       "      <td>0.820933</td>\n",
       "      <td>0.980509</td>\n",
       "      <td>0.893653</td>\n",
       "    </tr>\n",
       "  </tbody>\n",
       "</table>\n",
       "</div>"
      ],
      "text/plain": [
       "               Model  Accuracy  Precision    Recall  F1 Score\n",
       "0      Decision Tree  0.815430   0.827666  0.973179  0.894544\n",
       "1      Random Forest  0.816580   0.827671  0.974976  0.895305\n",
       "2  Gradient Boosting  0.804392   0.804392  1.000000  0.891593\n",
       "3          Ada Boost  0.812282   0.820933  0.980509  0.893653"
      ]
     },
     "execution_count": 16,
     "metadata": {},
     "output_type": "execute_result"
    }
   ],
   "source": [
    "metrics = {\n",
    "    'Model': ['Decision Tree', 'Random Forest', 'Gradient Boosting', 'Ada Boost'],\n",
    "    'Accuracy': [accuracy_dt, accuracy_rf, accuracy_gb, accuracy_ab],\n",
    "    'Precision': [precision_dt, precision_rf, precision_gb, precision_ab],\n",
    "    'Recall': [recall_dt, recall_rf, recall_gb, recall_ab],\n",
    "    'F1 Score': [f1_dt, f1_rf, f1_gb, f1_ab]\n",
    "}\n",
    "metrics = pd.DataFrame(metrics)\n",
    "metrics"
   ]
  },
  {
   "cell_type": "code",
   "execution_count": 21,
   "id": "847bf607",
   "metadata": {},
   "outputs": [
    {
     "name": "stderr",
     "output_type": "stream",
     "text": [
      "C:\\Users\\Jason\\AppData\\Local\\Temp\\ipykernel_17508\\2178062603.py:13: UserWarning: set_ticklabels() should only be used with a fixed number of ticks, i.e. after set_ticks() or using a FixedLocator.\n",
      "  chart.set_xticklabels(chart.get_xticklabels(), rotation = 45, horizontalalignment = \"right\")\n"
     ]
    },
    {
     "data": {
      "image/png": "[encoded data removed]",
      "text/plain": [
       "<Figure size 1200x600 with 1 Axes>"
      ]
     },
     "metadata": {},
     "output_type": "display_data"
    }
   ],
   "source": [
    "# Feature Importances\n",
    "\n",
    "fi_dt = dt.feature_importances_\n",
    "fi_rf = rf.feature_importances_\n",
    "fi_gb = gb.feature_importances_\n",
    "fi_ab = ab.feature_importances_\n",
    "\n",
    "fi_avg = (fi_dt + fi_rf + fi_gb + fi_ab) / 4\n",
    "fi_avg = pd.Series(fi_avg, index=X.columns).sort_values(ascending=False)\n",
    "\n",
    "plt.figure(figsize = (12,6))\n",
    "chart = sns.barplot(x = fi_avg, y = fi_avg.index)\n",
    "chart.set_xticklabels(chart.get_xticklabels(), rotation = 45, horizontalalignment = \"right\")\n",
    "plt.show()"
   ]
  },
  {
   "cell_type": "markdown",
   "id": "86a3c1a0",
   "metadata": {},
   "source": [
    "From this, we can see that the most important features are \"Incident Classification\" and \"Alarm Source\". Both of these varibles have been target endcoded earlier on, meaning that the target encoded value of each instance in the column is representitive of how likley a response time is to be valid based on that value alone. This being said, looking at the target encoded values that are the lowest will give un insight into what specificaly will need to be imporved, as an answer to our reseach question"
   ]
  },
  {
   "cell_type": "code",
   "execution_count": 22,
   "id": "6d0386df",
   "metadata": {},
   "outputs": [
    {
     "data": {
      "text/html": [
       "<div>\n",
       "<style scoped>\n",
       "    .dataframe tbody tr th:only-of-type {\n",
       "        vertical-align: middle;\n",
       "    }\n",
       "\n",
       "    .dataframe tbody tr th {\n",
       "        vertical-align: top;\n",
       "    }\n",
       "\n",
       "    .dataframe thead th {\n",
       "        text-align: right;\n",
       "    }\n",
       "</style>\n",
       "<table border=\"1\" class=\"dataframe\">\n",
       "  <thead>\n",
       "    <tr style=\"text-align: right;\">\n",
       "      <th></th>\n",
       "      <th>Alarm Source</th>\n",
       "      <th>Alarm Source num</th>\n",
       "    </tr>\n",
       "  </thead>\n",
       "  <tbody>\n",
       "    <tr>\n",
       "      <th>6</th>\n",
       "      <td>ems</td>\n",
       "      <td>0.486769</td>\n",
       "    </tr>\n",
       "    <tr>\n",
       "      <th>8</th>\n",
       "      <td>ems-911</td>\n",
       "      <td>0.510205</td>\n",
       "    </tr>\n",
       "    <tr>\n",
       "      <th>1</th>\n",
       "      <td>911 text</td>\n",
       "      <td>0.654835</td>\n",
       "    </tr>\n",
       "    <tr>\n",
       "      <th>7</th>\n",
       "      <td>ems link/medical</td>\n",
       "      <td>0.670871</td>\n",
       "    </tr>\n",
       "    <tr>\n",
       "      <th>15</th>\n",
       "      <td>sol</td>\n",
       "      <td>0.681449</td>\n",
       "    </tr>\n",
       "    <tr>\n",
       "      <th>12</th>\n",
       "      <td>pd link/medical</td>\n",
       "      <td>0.686978</td>\n",
       "    </tr>\n",
       "    <tr>\n",
       "      <th>5</th>\n",
       "      <td>default record</td>\n",
       "      <td>0.693921</td>\n",
       "    </tr>\n",
       "    <tr>\n",
       "      <th>11</th>\n",
       "      <td>ers-nc</td>\n",
       "      <td>0.758593</td>\n",
       "    </tr>\n",
       "    <tr>\n",
       "      <th>17</th>\n",
       "      <td>verbal</td>\n",
       "      <td>0.786136</td>\n",
       "    </tr>\n",
       "    <tr>\n",
       "      <th>0</th>\n",
       "      <td>911</td>\n",
       "      <td>0.802290</td>\n",
       "    </tr>\n",
       "    <tr>\n",
       "      <th>2</th>\n",
       "      <td>911text</td>\n",
       "      <td>0.858822</td>\n",
       "    </tr>\n",
       "    <tr>\n",
       "      <th>9</th>\n",
       "      <td>ers</td>\n",
       "      <td>0.917174</td>\n",
       "    </tr>\n",
       "    <tr>\n",
       "      <th>10</th>\n",
       "      <td>ers no contact</td>\n",
       "      <td>0.933490</td>\n",
       "    </tr>\n",
       "    <tr>\n",
       "      <th>13</th>\n",
       "      <td>phone</td>\n",
       "      <td>0.950967</td>\n",
       "    </tr>\n",
       "    <tr>\n",
       "      <th>3</th>\n",
       "      <td>bars</td>\n",
       "      <td>0.955150</td>\n",
       "    </tr>\n",
       "    <tr>\n",
       "      <th>4</th>\n",
       "      <td>class-3</td>\n",
       "      <td>0.956136</td>\n",
       "    </tr>\n",
       "    <tr>\n",
       "      <th>16</th>\n",
       "      <td>uct/911</td>\n",
       "      <td>0.961681</td>\n",
       "    </tr>\n",
       "    <tr>\n",
       "      <th>14</th>\n",
       "      <td>private fire alarm</td>\n",
       "      <td>0.985794</td>\n",
       "    </tr>\n",
       "  </tbody>\n",
       "</table>\n",
       "</div>"
      ],
      "text/plain": [
       "          Alarm Source  Alarm Source num\n",
       "6                  ems          0.486769\n",
       "8              ems-911          0.510205\n",
       "1             911 text          0.654835\n",
       "7     ems link/medical          0.670871\n",
       "15                 sol          0.681449\n",
       "12     pd link/medical          0.686978\n",
       "5       default record          0.693921\n",
       "11              ers-nc          0.758593\n",
       "17              verbal          0.786136\n",
       "0                  911          0.802290\n",
       "2              911text          0.858822\n",
       "9                  ers          0.917174\n",
       "10      ers no contact          0.933490\n",
       "13               phone          0.950967\n",
       "3                 bars          0.955150\n",
       "4              class-3          0.956136\n",
       "16             uct/911          0.961681\n",
       "14  private fire alarm          0.985794"
      ]
     },
     "execution_count": 22,
     "metadata": {},
     "output_type": "execute_result"
    }
   ],
   "source": [
    "alarm_source_val = df.groupby('Alarm Source')['Alarm Source num'].mean().reset_index()\n",
    "alarm_source_val.sort_values(['Alarm Source num'], ascending=True, inplace=True)\n",
    "alarm_source_val"
   ]
  },
  {
   "cell_type": "code",
   "execution_count": 23,
   "id": "d51de429",
   "metadata": {},
   "outputs": [
    {
     "data": {
      "text/html": [
       "<div>\n",
       "<style scoped>\n",
       "    .dataframe tbody tr th:only-of-type {\n",
       "        vertical-align: middle;\n",
       "    }\n",
       "\n",
       "    .dataframe tbody tr th {\n",
       "        vertical-align: top;\n",
       "    }\n",
       "\n",
       "    .dataframe thead th {\n",
       "        text-align: right;\n",
       "    }\n",
       "</style>\n",
       "<table border=\"1\" class=\"dataframe\">\n",
       "  <thead>\n",
       "    <tr style=\"text-align: right;\">\n",
       "      <th></th>\n",
       "      <th>Incident Classification</th>\n",
       "      <th>Incident Classification num</th>\n",
       "    </tr>\n",
       "  </thead>\n",
       "  <tbody>\n",
       "    <tr>\n",
       "      <th>0</th>\n",
       "      <td>medical emergencies</td>\n",
       "      <td>0.640468</td>\n",
       "    </tr>\n",
       "    <tr>\n",
       "      <th>1</th>\n",
       "      <td>medical mfas</td>\n",
       "      <td>0.871856</td>\n",
       "    </tr>\n",
       "    <tr>\n",
       "      <th>4</th>\n",
       "      <td>nonstructural fires</td>\n",
       "      <td>0.925076</td>\n",
       "    </tr>\n",
       "    <tr>\n",
       "      <th>2</th>\n",
       "      <td>nonmedical emergencies</td>\n",
       "      <td>0.946412</td>\n",
       "    </tr>\n",
       "    <tr>\n",
       "      <th>3</th>\n",
       "      <td>nonmedical mfas</td>\n",
       "      <td>0.948335</td>\n",
       "    </tr>\n",
       "    <tr>\n",
       "      <th>5</th>\n",
       "      <td>structural fires</td>\n",
       "      <td>0.967511</td>\n",
       "    </tr>\n",
       "  </tbody>\n",
       "</table>\n",
       "</div>"
      ],
      "text/plain": [
       "  Incident Classification  Incident Classification num\n",
       "0     medical emergencies                     0.640468\n",
       "1            medical mfas                     0.871856\n",
       "4     nonstructural fires                     0.925076\n",
       "2  nonmedical emergencies                     0.946412\n",
       "3         nonmedical mfas                     0.948335\n",
       "5        structural fires                     0.967511"
      ]
     },
     "execution_count": 23,
     "metadata": {},
     "output_type": "execute_result"
    }
   ],
   "source": [
    "incident_classification_val = df.groupby('Incident Classification')['Incident Classification num'].mean().reset_index()\n",
    "incident_classification_val.sort_values(['Incident Classification num'], ascending=True, inplace=True)\n",
    "incident_classification_val"
   ]
  }
 ],
 "metadata": {
  "kernelspec": {
   "display_name": "Python 3",
   "language": "python",
   "name": "python3"
  },
  "language_info": {
   "codemirror_mode": {
    "name": "ipython",
    "version": 3
   },
   "file_extension": ".py",
   "mimetype": "text/x-python",
   "name": "python",
   "nbconvert_exporter": "python",
   "pygments_lexer": "ipython3",
   "version": "3.13.1"
  }
 },
 "nbformat": 4,
 "nbformat_minor": 5
}
